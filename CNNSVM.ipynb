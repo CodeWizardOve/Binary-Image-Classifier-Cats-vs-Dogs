{
 "cells": [
  {
   "cell_type": "code",
   "execution_count": 55,
   "id": "8df134ca-105e-4d2c-a6b4-c1639033025b",
   "metadata": {},
   "outputs": [],
   "source": [
    "import numpy as np\n",
    "from skimage.color import rgb2gray\n",
    "from skimage.transform import resize\n",
    "from skimage import io\n",
    "import glob\n",
    "from tqdm import tqdm\n",
    "from sklearn.model_selection import train_test_split\n",
    "from sklearn.svm import SVC\n",
    "from sklearn.metrics import classification_report, confusion_matrix\n",
    "import matplotlib.pyplot as plt"
   ]
  },
  {
   "cell_type": "code",
   "execution_count": 57,
   "id": "729af3ff-1df1-46e3-8c7c-8c1639c4fe2d",
   "metadata": {},
   "outputs": [],
   "source": [
    "# Constants\n",
    "IMAGE_SIZE = (128, 128)  # Target size for resized images\n",
    "DATA_PATH = './train2/*/*.jpg'  # File path pattern to locate dataset"
   ]
  },
  {
   "cell_type": "code",
   "execution_count": 59,
   "id": "9ee5209b-9971-46aa-a2f1-894ce6b10df0",
   "metadata": {},
   "outputs": [],
   "source": [
    "def preprocess_image(image_path, target_size=IMAGE_SIZE):\n",
    "    image = io.imread(image_path)  # Read the image\n",
    "    gray_image = rgb2gray(image)  # Convert to grayscale\n",
    "    resized_image = resize(gray_image, target_size, anti_aliasing=True)  # Resize to target size\n",
    "    normalized_image = resized_image / 255.0  # Normalize pixel values to [0, 1]\n",
    "    return normalized_image.flatten()  # Flatten into a 1D array"
   ]
  },
  {
   "cell_type": "code",
   "execution_count": 61,
   "id": "383fb214-fcb8-4691-ab7f-c42108064874",
   "metadata": {},
   "outputs": [],
   "source": [
    "def load_data(data_path):\n",
    "    data, labels = [], []  # Initialize lists for data and labels\n",
    "    image_paths = glob.glob(data_path)  # Get all image paths matching the pattern\n",
    "    \n",
    "    for image_path in tqdm(image_paths, desc=\"Processing Images\"):\n",
    "        data.append(preprocess_image(image_path))  # Preprocess and add to the data list\n",
    "        labels.append(1 if 'cat' in image_path.lower() else 0)  # Assign labels based on the file name\n",
    "    \n",
    "    return np.array(data), np.array(labels)  # Return data and labels as NumPy arrays"
   ]
  },
  {
   "cell_type": "code",
   "execution_count": 63,
   "id": "e29ea431-4454-4248-870f-43e5c3074124",
   "metadata": {},
   "outputs": [
    {
     "name": "stderr",
     "output_type": "stream",
     "text": [
      "Processing Images: 0it [00:00, ?it/s]"
     ]
    },
    {
     "name": "stdout",
     "output_type": "stream",
     "text": [
      "Data shape: (0,), Labels shape: (0,)\n"
     ]
    },
    {
     "name": "stderr",
     "output_type": "stream",
     "text": [
      "\n"
     ]
    }
   ],
   "source": [
    "data, labels = load_data(DATA_PATH)  # Load data using the defined function\n",
    "print(f\"Data shape: {data.shape}, Labels shape: {labels.shape}\")  # Print dataset shapes"
   ]
  },
  {
   "cell_type": "code",
   "execution_count": null,
   "id": "c312a14b-7fe0-4573-aab2-ec4a1a5e00d6",
   "metadata": {},
   "outputs": [],
   "source": [
    "X_train, X_test, y_train, y_test = train_test_split(data, labels, test_size=0.3, random_state=42)\n",
    "print(f\"Training set shape: {X_train.shape}, Testing set shape: {X_test.shape}\")"
   ]
  },
  {
   "cell_type": "code",
   "execution_count": null,
   "id": "a2784e9a-11f9-4d9d-bd46-5f50a597c893",
   "metadata": {},
   "outputs": [],
   "source": [
    "clf = SVC(kernel='linear', random_state=42)  # Create an SVM classifier with a linear kernel\n",
    "clf.fit(X_train, y_train)  # Train the model on the training data\n",
    "print(\"Model training completed!\")"
   ]
  },
  {
   "cell_type": "code",
   "execution_count": null,
   "id": "a7679c6f-288e-4e96-8e5f-e95a604e7c52",
   "metadata": {},
   "outputs": [],
   "source": [
    "y_pred = clf.predict(X_test)  # Predict labels for the test data\n",
    "print(\"\\nClassification Report:\")\n",
    "print(classification_report(y_test, y_pred))  # Print precision, recall, and f1-score\n",
    "print(\"\\nConfusion Matrix:\")\n",
    "print(confusion_matrix(y_test, y_pred))  # Print confusion matrix"
   ]
  },
  {
   "cell_type": "code",
   "execution_count": null,
   "id": "d669ef2b-0899-4154-97af-73cb33b7b439",
   "metadata": {},
   "outputs": [],
   "source": [
    "def predict_and_display(image_path, model):\n",
    "    processed_image = preprocess_image(image_path)  # Preprocess the test image\n",
    "    prediction = model.predict([processed_image])[0]  # Predict the class of the image\n",
    "    \n",
    "    # Display the image with its predicted label\n",
    "    plt.imshow(resize(io.imread(image_path), IMAGE_SIZE, anti_aliasing=True), cmap='gray')\n",
    "    plt.title(f'Predicted class is {\"Cat\" if prediction == 1 else \"Dog\"}')\n",
    "    plt.axis('off')\n",
    "    plt.show()"
   ]
  },
  {
   "cell_type": "code",
   "execution_count": null,
   "id": "a35c4580-c0de-4633-a9cf-f7d073d7a028",
   "metadata": {},
   "outputs": [],
   "source": [
    "test_image_path = './train2/dog/dog.108.jpg'  # Path to a test image\n",
    "predict_and_display(test_image_path, clf)  # Predict and display the test image"
   ]
  }
 ],
 "metadata": {
  "kernelspec": {
   "display_name": "Python 3 (ipykernel)",
   "language": "python",
   "name": "python3"
  },
  "language_info": {
   "codemirror_mode": {
    "name": "ipython",
    "version": 3
   },
   "file_extension": ".py",
   "mimetype": "text/x-python",
   "name": "python",
   "nbconvert_exporter": "python",
   "pygments_lexer": "ipython3",
   "version": "3.12.7"
  }
 },
 "nbformat": 4,
 "nbformat_minor": 5
}
